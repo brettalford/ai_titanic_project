{
 "cells": [
  {
   "cell_type": "markdown",
   "metadata": {},
   "source": [
    "Import Python Libraries"
   ]
  },
  {
   "cell_type": "code",
   "execution_count": 6,
   "metadata": {},
   "outputs": [],
   "source": [
    "# =====================================================================\n",
    "# Title             : Intro_AI_Project.py\n",
    "# Description       : This program uses Scikit-learn machine learning algorithms in a virtual environment to predict titanic survival on a dataset.\n",
    "# Author            : Christian Tran (R11641653)\n",
    "# Date              : 4/1/2024\n",
    "# Notes             : This program requires compatibility for Python with scikit-learn\n",
    "# =====================================================================\n",
    "\n",
    "#Import the needed libraries and packages\n",
    "import pandas as pd\n",
    "from sklearn import preprocessing\n",
    "from sklearn import tree\n",
    "\n",
    "#Added numpy\n",
    "import numpy\n",
    "\n",
    "#Adding additional sklearn machine learning algorithms:\n",
    "#Libraries for graphing \n",
    "import seaborn as sns \n",
    "import matplotlib.pyplot as plt\n",
    "\n",
    "#Sklearn machine learning models (2 ML models)\n",
    "from sklearn.ensemble import RandomForestClassifier #Random forest classifier ML algorithm\n",
    "from sklearn.svm import SVC #Support Vector Classifier\n",
    "from sklearn.linear_model import LogisticRegression\n",
    "\n",
    "#Sklearn data manipulation and calculation packages\n",
    "from sklearn.metrics import confusion_matrix, classification_report\n",
    "\n",
    "#Added this line to fix the formatting for graphs in jupyter notebook\n",
    "%matplotlib inline\n"
   ]
  },
  {
   "cell_type": "markdown",
   "metadata": {},
   "source": [
    "Preprocess the Data, Clean the Data"
   ]
  },
  {
   "cell_type": "code",
   "execution_count": 7,
   "metadata": {},
   "outputs": [
    {
     "name": "stdout",
     "output_type": "stream",
     "text": [
      "-- Training data\n",
      "   PassengerId  Survived  Pclass  \\\n",
      "0            1         0       3   \n",
      "1            2         1       1   \n",
      "2            3         1       3   \n",
      "3            4         1       1   \n",
      "4            5         0       3   \n",
      "5            6         0       3   \n",
      "6            7         0       1   \n",
      "7            8         0       3   \n",
      "8            9         1       3   \n",
      "9           10         1       2   \n",
      "\n",
      "                                                Name     Sex   Age  SibSp  \\\n",
      "0                            Braund, Mr. Owen Harris    male  22.0      1   \n",
      "1  Cumings, Mrs. John Bradley (Florence Briggs Th...  female  38.0      1   \n",
      "2                             Heikkinen, Miss. Laina  female  26.0      0   \n",
      "3       Futrelle, Mrs. Jacques Heath (Lily May Peel)  female  35.0      1   \n",
      "4                           Allen, Mr. William Henry    male  35.0      0   \n",
      "5                                   Moran, Mr. James    male   NaN      0   \n",
      "6                            McCarthy, Mr. Timothy J    male  54.0      0   \n",
      "7                     Palsson, Master. Gosta Leonard    male   2.0      3   \n",
      "8  Johnson, Mrs. Oscar W (Elisabeth Vilhelmina Berg)  female  27.0      0   \n",
      "9                Nasser, Mrs. Nicholas (Adele Achem)  female  14.0      1   \n",
      "\n",
      "   Parch            Ticket     Fare Cabin Embarked  \n",
      "0      0         A/5 21171   7.2500   NaN        S  \n",
      "1      0          PC 17599  71.2833   C85        C  \n",
      "2      0  STON/O2. 3101282   7.9250   NaN        S  \n",
      "3      0            113803  53.1000  C123        S  \n",
      "4      0            373450   8.0500   NaN        S  \n",
      "5      0            330877   8.4583   NaN        Q  \n",
      "6      0             17463  51.8625   E46        S  \n",
      "7      1            349909  21.0750   NaN        S  \n",
      "8      2            347742  11.1333   NaN        S  \n",
      "9      0            237736  30.0708   NaN        C  \n",
      "PassengerId      int64\n",
      "Survived         int64\n",
      "Pclass           int64\n",
      "Name            object\n",
      "Sex             object\n",
      "Age            float64\n",
      "SibSp            int64\n",
      "Parch            int64\n",
      "Ticket          object\n",
      "Fare           float64\n",
      "Cabin           object\n",
      "Embarked        object\n",
      "dtype: object\n",
      "\n",
      "-- After data cleansing\n",
      "   PassengerId  Survived  Pclass  \\\n",
      "0            1         0       3   \n",
      "1            2         1       1   \n",
      "2            3         1       3   \n",
      "3            4         1       1   \n",
      "4            5         0       3   \n",
      "5            6         0       3   \n",
      "6            7         0       1   \n",
      "7            8         0       3   \n",
      "8            9         1       3   \n",
      "9           10         1       2   \n",
      "\n",
      "                                                Name     Sex        Age  \\\n",
      "0                            Braund, Mr. Owen Harris    male  22.000000   \n",
      "1  Cumings, Mrs. John Bradley (Florence Briggs Th...  female  38.000000   \n",
      "2                             Heikkinen, Miss. Laina  female  26.000000   \n",
      "3       Futrelle, Mrs. Jacques Heath (Lily May Peel)  female  35.000000   \n",
      "4                           Allen, Mr. William Henry    male  35.000000   \n",
      "5                                   Moran, Mr. James    male  29.699118   \n",
      "6                            McCarthy, Mr. Timothy J    male  54.000000   \n",
      "7                     Palsson, Master. Gosta Leonard    male   2.000000   \n",
      "8  Johnson, Mrs. Oscar W (Elisabeth Vilhelmina Berg)  female  27.000000   \n",
      "9                Nasser, Mrs. Nicholas (Adele Achem)  female  14.000000   \n",
      "\n",
      "   SibSp  Parch            Ticket     Fare Cabin Embarked  \n",
      "0      1      0         A/5 21171   7.2500   NaN        S  \n",
      "1      1      0          PC 17599  71.2833   C85        C  \n",
      "2      0      0  STON/O2. 3101282   7.9250   NaN        S  \n",
      "3      1      0            113803  53.1000  C123        S  \n",
      "4      0      0            373450   8.0500   NaN        S  \n",
      "5      0      0            330877   8.4583   NaN        Q  \n",
      "6      0      0             17463  51.8625   E46        S  \n",
      "7      3      1            349909  21.0750   NaN        S  \n",
      "8      0      2            347742  11.1333   NaN        S  \n",
      "9      1      0            237736  30.0708   NaN        C  \n",
      "\n"
     ]
    }
   ],
   "source": [
    "# Load training data\n",
    "\n",
    "train_df = pd.read_csv('train.csv')\n",
    "\n",
    "print ('-- Training data')\n",
    "print (train_df.head(10))\n",
    "print (train_df.dtypes)\n",
    "print ('')\n",
    "\n",
    "# Data cleansing\n",
    "\n",
    "mean_age = train_df['Age'].mean()\n",
    "\n",
    "train_df['Age'] = train_df['Age'].fillna(mean_age)\n",
    "\n",
    "print ('-- After data cleansing')\n",
    "print (train_df.head(10))\n",
    "print ('')\n",
    "\n",
    "# Prepare the label\n",
    "\n",
    "labels = train_df['Survived']\n",
    "\n",
    "# Prepare the features\n",
    "\n",
    "sex_encoder = preprocessing.LabelBinarizer()\n",
    "sex_encoder = sex_encoder.fit(train_df['Sex'])\n",
    "train_df['Sex_encoded'] = sex_encoder.transform(train_df['Sex'])\n",
    "\n",
    "features = train_df[['Age', 'Sex_encoded', 'Pclass']]"
   ]
  },
  {
   "cell_type": "markdown",
   "metadata": {},
   "source": [
    "Decision Tree Classifier Train and Test"
   ]
  },
  {
   "cell_type": "code",
   "execution_count": 8,
   "metadata": {},
   "outputs": [
    {
     "name": "stdout",
     "output_type": "stream",
     "text": [
      "-- Model\n",
      "DecisionTreeClassifier(max_depth=3, random_state=42)\n",
      "\n",
      "-- Test data after data cleansing\n",
      "   PassengerId  Pclass                                          Name     Sex  \\\n",
      "0          892       3                              Kelly, Mr. James    male   \n",
      "1          893       3              Wilkes, Mrs. James (Ellen Needs)  female   \n",
      "2          894       2                     Myles, Mr. Thomas Francis    male   \n",
      "3          895       3                              Wirz, Mr. Albert    male   \n",
      "4          896       3  Hirvonen, Mrs. Alexander (Helga E Lindqvist)  female   \n",
      "5          897       3                    Svensson, Mr. Johan Cervin    male   \n",
      "6          898       3                          Connolly, Miss. Kate  female   \n",
      "7          899       2                  Caldwell, Mr. Albert Francis    male   \n",
      "8          900       3     Abrahim, Mrs. Joseph (Sophie Halaut Easu)  female   \n",
      "9          901       3                       Davies, Mr. John Samuel    male   \n",
      "\n",
      "    Age  SibSp  Parch     Ticket     Fare Cabin Embarked  \n",
      "0  34.5      0      0     330911   7.8292   NaN        Q  \n",
      "1  47.0      1      0     363272   7.0000   NaN        S  \n",
      "2  62.0      0      0     240276   9.6875   NaN        Q  \n",
      "3  27.0      0      0     315154   8.6625   NaN        S  \n",
      "4  22.0      1      1    3101298  12.2875   NaN        S  \n",
      "5  14.0      0      0       7538   9.2250   NaN        S  \n",
      "6  30.0      0      0     330972   7.6292   NaN        Q  \n",
      "7  26.0      1      1     248738  29.0000   NaN        S  \n",
      "8  18.0      0      0       2657   7.2292   NaN        C  \n",
      "9  21.0      2      0  A/4 48871  24.1500   NaN        S  \n",
      "\n",
      "Test data with predictions\n",
      "   PassengerId  Pclass                                          Name     Sex  \\\n",
      "0          892       3                              Kelly, Mr. James    male   \n",
      "1          893       3              Wilkes, Mrs. James (Ellen Needs)  female   \n",
      "2          894       2                     Myles, Mr. Thomas Francis    male   \n",
      "3          895       3                              Wirz, Mr. Albert    male   \n",
      "4          896       3  Hirvonen, Mrs. Alexander (Helga E Lindqvist)  female   \n",
      "5          897       3                    Svensson, Mr. Johan Cervin    male   \n",
      "6          898       3                          Connolly, Miss. Kate  female   \n",
      "7          899       2                  Caldwell, Mr. Albert Francis    male   \n",
      "8          900       3     Abrahim, Mrs. Joseph (Sophie Halaut Easu)  female   \n",
      "9          901       3                       Davies, Mr. John Samuel    male   \n",
      "\n",
      "    Age  SibSp  Parch     Ticket     Fare Cabin Embarked  Sex_encoded  \\\n",
      "0  34.5      0      0     330911   7.8292   NaN        Q            1   \n",
      "1  47.0      1      0     363272   7.0000   NaN        S            0   \n",
      "2  62.0      0      0     240276   9.6875   NaN        Q            1   \n",
      "3  27.0      0      0     315154   8.6625   NaN        S            1   \n",
      "4  22.0      1      1    3101298  12.2875   NaN        S            0   \n",
      "5  14.0      0      0       7538   9.2250   NaN        S            1   \n",
      "6  30.0      0      0     330972   7.6292   NaN        Q            0   \n",
      "7  26.0      1      1     248738  29.0000   NaN        S            1   \n",
      "8  18.0      0      0       2657   7.2292   NaN        C            0   \n",
      "9  21.0      2      0  A/4 48871  24.1500   NaN        S            1   \n",
      "\n",
      "   prediction  \n",
      "0           0  \n",
      "1           0  \n",
      "2           0  \n",
      "3           0  \n",
      "4           1  \n",
      "5           0  \n",
      "6           1  \n",
      "7           0  \n",
      "8           1  \n",
      "9           0  \n",
      "\n"
     ]
    },
    {
     "data": {
      "text/plain": [
       "[Text(0.5, 1.0, 'Predicted Survival for Each Passenger: Decision Tree Classifier')]"
      ]
     },
     "execution_count": 8,
     "metadata": {},
     "output_type": "execute_result"
    },
    {
     "data": {
      "image/png": "[encoded data removed]",
      "text/plain": [
       "<Figure size 640x480 with 1 Axes>"
      ]
     },
     "metadata": {},
     "output_type": "display_data"
    }
   ],
   "source": [
    "# Train the model\n",
    "dt = tree.DecisionTreeClassifier(criterion='gini', max_depth=3, random_state=42) #Decision tree classifier\n",
    "model = dt.fit(features, labels)\n",
    "\n",
    "print ('-- Model')\n",
    "print (model)\n",
    "print ('')\n",
    "\n",
    "# Load test data + data cleansing\n",
    "\n",
    "test_df = pd.read_csv('test.csv')\n",
    "\n",
    "test_df['Age'] = test_df['Age'].fillna(mean_age)\n",
    "\n",
    "print ('-- Test data after data cleansing')\n",
    "print (test_df.head(10))\n",
    "print ('')\n",
    "\n",
    "\n",
    "# Make predictions\n",
    "\n",
    "test_df['Sex_encoded'] = sex_encoder.transform(test_df['Sex'])\n",
    "\n",
    "test_features = test_df[['Age', 'Sex_encoded', 'Pclass']]\n",
    "\n",
    "test_df_results = model.predict(test_features)\n",
    "\n",
    "\n",
    "\n",
    "test_df['prediction'] = test_df_results\n",
    "\n",
    "print ('Test data with predictions')\n",
    "print (test_df.head(10))\n",
    "print ('')\n",
    "\n",
    "#generate a graph that shows the predicted values from the previous model above:\n",
    "#print out graph showcasing the predictions:\n",
    "sns.barplot(test_df['prediction'].value_counts()).set(title = 'Predicted Survival for Each Passenger: Decision Tree Classifier')"
   ]
  },
  {
   "cell_type": "markdown",
   "metadata": {},
   "source": [
    "Compare Decision Tree Predictions with Expected Results"
   ]
  },
  {
   "cell_type": "code",
   "execution_count": 9,
   "metadata": {},
   "outputs": [
    {
     "name": "stdout",
     "output_type": "stream",
     "text": [
      "-- Predictions (raw)\n",
      "   PassengerId  Pclass                                          Name     Sex  \\\n",
      "0          892       3                              Kelly, Mr. James    male   \n",
      "1          893       3              Wilkes, Mrs. James (Ellen Needs)  female   \n",
      "2          894       2                     Myles, Mr. Thomas Francis    male   \n",
      "3          895       3                              Wirz, Mr. Albert    male   \n",
      "4          896       3  Hirvonen, Mrs. Alexander (Helga E Lindqvist)  female   \n",
      "5          897       3                    Svensson, Mr. Johan Cervin    male   \n",
      "6          898       3                          Connolly, Miss. Kate  female   \n",
      "7          899       2                  Caldwell, Mr. Albert Francis    male   \n",
      "8          900       3     Abrahim, Mrs. Joseph (Sophie Halaut Easu)  female   \n",
      "9          901       3                       Davies, Mr. John Samuel    male   \n",
      "\n",
      "    Age  SibSp  Parch     Ticket     Fare Cabin Embarked  Sex_encoded  \\\n",
      "0  34.5      0      0     330911   7.8292   NaN        Q            1   \n",
      "1  47.0      1      0     363272   7.0000   NaN        S            0   \n",
      "2  62.0      0      0     240276   9.6875   NaN        Q            1   \n",
      "3  27.0      0      0     315154   8.6625   NaN        S            1   \n",
      "4  22.0      1      1    3101298  12.2875   NaN        S            0   \n",
      "5  14.0      0      0       7538   9.2250   NaN        S            1   \n",
      "6  30.0      0      0     330972   7.6292   NaN        Q            0   \n",
      "7  26.0      1      1     248738  29.0000   NaN        S            1   \n",
      "8  18.0      0      0       2657   7.2292   NaN        C            0   \n",
      "9  21.0      2      0  A/4 48871  24.1500   NaN        S            1   \n",
      "\n",
      "   prediction  Survived  \n",
      "0           0         0  \n",
      "1           0         1  \n",
      "2           0         0  \n",
      "3           0         0  \n",
      "4           1         1  \n",
      "5           0         0  \n",
      "6           1         1  \n",
      "7           0         0  \n",
      "8           1         1  \n",
      "9           0         0  \n",
      "\n",
      "-- Prediction (aggregates)\n",
      "True negatives: 264\n",
      "True positives: 147\n",
      "False negatives: 5\n",
      "False positives: 2\n",
      "              precision    recall  f1-score   support\n",
      "\n",
      "           0       0.98      0.99      0.99       266\n",
      "           1       0.99      0.97      0.98       152\n",
      "\n",
      "    accuracy                           0.98       418\n",
      "   macro avg       0.98      0.98      0.98       418\n",
      "weighted avg       0.98      0.98      0.98       418\n",
      "\n",
      "[[264   2]\n",
      " [  5 147]]\n"
     ]
    }
   ],
   "source": [
    "# Compare predictions with expected results (raw)\n",
    "\n",
    "expected_results_df = pd.read_csv('gender_submission.csv')\n",
    "\n",
    "test_df['Survived'] = expected_results_df['Survived']\n",
    "\n",
    "print ('-- Predictions (raw)')\n",
    "print (test_df.head(10))\n",
    "print ('')\n",
    "\n",
    "\n",
    "# Compare predictions with expected results (aggregates)\n",
    "\n",
    "true_negatives  = test_df.loc[lambda df: (df.Survived == 0) & (df.prediction == 0), :].shape[0]\n",
    "true_postives   = test_df.loc[lambda df: (df.Survived == 1) & (df.prediction == 1), :].shape[0]\n",
    "false_negatives = test_df.loc[lambda df: (df.Survived == 1) & (df.prediction == 0), :].shape[0]\n",
    "false_postives  = test_df.loc[lambda df: (df.Survived == 0) & (df.prediction == 1), :].shape[0]\n",
    "\n",
    "print ('-- Prediction (aggregates)')\n",
    "print ('True negatives: '  + str(true_negatives))\n",
    "print ('True positives: '  + str(true_postives))\n",
    "print ('False negatives: ' + str(false_negatives))\n",
    "print ('False positives: ' + str(false_postives))\n",
    "\n",
    "#Check how well the model performed with classification report and confusion matrix\n",
    "print(classification_report(test_df['Survived'], test_df_results)) #test_df represents the expected values I want to compare to our predicted values (rfc_predictions)\n",
    "print(confusion_matrix(test_df['Survived'], test_df_results)) #confusion matrix shows how many correct and mislabeled survival rates \n"
   ]
  },
  {
   "cell_type": "markdown",
   "metadata": {},
   "source": [
    "Add-On Code for Project"
   ]
  },
  {
   "cell_type": "code",
   "execution_count": 10,
   "metadata": {},
   "outputs": [
    {
     "name": "stdout",
     "output_type": "stream",
     "text": [
      "Survived\n",
      "0    549\n",
      "1    342\n",
      "Name: count, dtype: int64\n"
     ]
    },
    {
     "data": {
      "text/plain": [
       "[Text(0.5, 1.0, 'Training Data')]"
      ]
     },
     "execution_count": 10,
     "metadata": {},
     "output_type": "execute_result"
    },
    {
     "data": {
      "image/png": "[encoded data removed]",
      "text/plain": [
       "<Figure size 640x480 with 1 Axes>"
      ]
     },
     "metadata": {},
     "output_type": "display_data"
    }
   ],
   "source": [
    "#Start of add-on-code for project: \n",
    "#   4/1/2024 - Christian Tran R11641653\n",
    "#The plan:\n",
    "#   - Add on at least 2 more predictive machine learning models on this python code \n",
    "#   - Add at least 3 (I think...) graphs\n",
    "#   - Add on accuracy scores for each of the other predictive machine learning models \n",
    "\n",
    "#Uses seaborn library to make a basic bargraph on how many survived and how many died in the initial train.csv dataframe\n",
    "print(train_df['Survived'].value_counts())\n",
    "sns.barplot(train_df['Survived'].value_counts()).set(title = 'Training Data')"
   ]
  },
  {
   "cell_type": "markdown",
   "metadata": {},
   "source": [
    "Logistic Regression"
   ]
  },
  {
   "cell_type": "code",
   "execution_count": 11,
   "metadata": {},
   "outputs": [
    {
     "name": "stdout",
     "output_type": "stream",
     "text": [
      "First 20 Predicted Survival: \n",
      "[0 0 0 0 1 0 1 0 1 0 0 0 1 0 1 1 0 0 1 0]\n",
      "              precision    recall  f1-score   support\n",
      "\n",
      "           0       0.97      0.96      0.97       266\n",
      "           1       0.94      0.95      0.94       152\n",
      "\n",
      "    accuracy                           0.96       418\n",
      "   macro avg       0.95      0.95      0.95       418\n",
      "weighted avg       0.96      0.96      0.96       418\n",
      "\n",
      "[[256  10]\n",
      " [  8 144]]\n",
      "<class 'numpy.ndarray'>\n",
      "Zero_count: \n",
      "264\n",
      "One_count: \n",
      "154\n",
      "DUMMY DATA PREDICTION: \n",
      "[0]\n"
     ]
    },
    {
     "data": {
      "text/plain": [
       "Text(0.5, 1.0, 'Predicted Survival for Each Passenger: Logistic Regression')"
      ]
     },
     "execution_count": 11,
     "metadata": {},
     "output_type": "execute_result"
    },
    {
     "data": {
      "image/png": "[encoded data removed]",
      "text/plain": [
       "<Figure size 640x480 with 1 Axes>"
      ]
     },
     "metadata": {},
     "output_type": "display_data"
    }
   ],
   "source": [
    "#Training the Logistic Regression model\n",
    "#rfc = RandomForestClassifier(n_estimators = 140) #n_estimators denote how many decision trees to use for the model.\n",
    "LR = LogisticRegression()\n",
    "Logistic_regress = LR.fit(features, labels) #train the rfc model with features (the features to base predictions off of) and labels (the feature we want to predict)\n",
    "\n",
    "#Predict survival for each passenger \n",
    "LR_predictions = LR.predict(test_features) #after training the model, make predictions on the test.csv file using the features from the test.csv file.\n",
    "\n",
    "#display first 20 predictions from the random forest classifier model\n",
    "print('First 20 Predicted Survival: ')\n",
    "print(LR_predictions[:20])\n",
    "\n",
    "#Check how well the model performed with classification report and confusion matrix\n",
    "print(classification_report(test_df['Survived'], LR_predictions)) #test_df represents the expected values I want to compare to our predicted values (rfc_predictions)\n",
    "print(confusion_matrix(test_df['Survived'], LR_predictions)) #confusion matrix shows how many correct and mislabeled survival rates \n",
    "\n",
    "print(type(LR_predictions))\n",
    "\n",
    "#count number of 0's and 1's in rfc_predictions array for bargraph\n",
    "zero_count = 0\n",
    "one_count = 0\n",
    "\n",
    "for values in LR_predictions:\n",
    "    if (values  == 0):\n",
    "        zero_count = zero_count + 1\n",
    "    else:\n",
    "        one_count = one_count + 1\n",
    "\n",
    "print('Zero_count: ')\n",
    "print(zero_count)\n",
    "print('One_count: ')\n",
    "print(one_count)\n",
    "\n",
    "#Test if I can insert new data from code and see if the model will make a prediction:\n",
    "dummy_data = [[934,2,'Christian Tran','male',23,0,0,612311,4.598,float('NaN'),'Q']]\n",
    "\n",
    "dummy_df = pd.DataFrame(dummy_data, columns=['PassengerId','Pclass','Name','Sex','Age','SibSp','Parch','Ticket','Fare','Cabin','Embarked'])\n",
    "\n",
    "dummy_df['Sex_encoded'] = sex_encoder.transform(dummy_df['Sex'])\n",
    "\n",
    "dummy_features = dummy_df[['Age', 'Sex_encoded', 'Pclass']]\n",
    "\n",
    "dummy_pred = LR.predict(dummy_features)\n",
    "print('DUMMY DATA PREDICTION: ')\n",
    "print(dummy_pred) \n",
    "\n",
    "#Create bargraph that shows the predicted 0's and 1's\n",
    "#Get data ready for graph:\n",
    "LR_pred_data = {'0': zero_count, '1': one_count}\n",
    "LR_x_labels = list(LR_pred_data.keys())\n",
    "LR_values = list(LR_pred_data.values())\n",
    "#create a bargraph with matplotlib\n",
    "plt.bar(LR_x_labels, LR_values)\n",
    "plt.xlabel('Survived')\n",
    "plt.ylabel('Counts')\n",
    "plt.title('Predicted Survival for Each Passenger: Logistic Regression')"
   ]
  },
  {
   "cell_type": "markdown",
   "metadata": {},
   "source": [
    "Graph to show Expected Survivals"
   ]
  },
  {
   "cell_type": "code",
   "execution_count": 12,
   "metadata": {},
   "outputs": [
    {
     "data": {
      "text/plain": [
       "[Text(0.5, 1.0, 'Expected Survival for Each Passenger')]"
      ]
     },
     "execution_count": 12,
     "metadata": {},
     "output_type": "execute_result"
    },
    {
     "data": {
      "image/png": "[encoded data removed]",
      "text/plain": [
       "<Figure size 640x480 with 1 Axes>"
      ]
     },
     "metadata": {},
     "output_type": "display_data"
    }
   ],
   "source": [
    "#Create a bargraph that shows the expected 0's and 1's\n",
    "sns.barplot(test_df['Survived'].value_counts()).set(title = 'Expected Survival for Each Passenger')"
   ]
  },
  {
   "cell_type": "markdown",
   "metadata": {},
   "source": [
    "### Support Vector Regression Model\n",
    " - rbf: radial basis kernal\n",
    " - gamma: defines how far the influence a training example reaches\n",
    " - C: regularization Parameter "
   ]
  },
  {
   "cell_type": "code",
   "execution_count": 13,
   "metadata": {},
   "outputs": [
    {
     "name": "stdout",
     "output_type": "stream",
     "text": [
      "First 20 Predicted Survival: \n",
      "[0 0 0 0 1 0 1 0 1 0 0 0 1 0 1 1 0 0 1 0]\n",
      "              precision    recall  f1-score   support\n",
      "\n",
      "           0       0.97      0.98      0.97       266\n",
      "           1       0.96      0.94      0.95       152\n",
      "\n",
      "    accuracy                           0.96       418\n",
      "   macro avg       0.96      0.96      0.96       418\n",
      "weighted avg       0.96      0.96      0.96       418\n",
      "\n",
      "[[260   6]\n",
      " [  9 143]]\n",
      "<class 'numpy.ndarray'>\n",
      "Zero_count: \n",
      "269\n",
      "One_count: \n",
      "149\n",
      "DUMMY DATA PREDICTION: \n",
      "[0]\n"
     ]
    },
    {
     "data": {
      "text/plain": [
       "Text(0.5, 1.0, 'Predicted Survival for Each Passenger: Support Vector Regression')"
      ]
     },
     "execution_count": 13,
     "metadata": {},
     "output_type": "execute_result"
    },
    {
     "data": {
      "image/png": "[encoded data removed]",
      "text/plain": [
       "<Figure size 640x480 with 1 Axes>"
      ]
     },
     "metadata": {},
     "output_type": "display_data"
    }
   ],
   "source": [
    "#Training the Support Vector Model using the radial basis kernel\n",
    "supVectClass = SVC(kernel='rbf', C=5, gamma=0.01)\n",
    "\n",
    "trained_SVC = supVectClass.fit(features, labels) #train the rfc model with features (the features to base predictions off of) and labels (the feature we want to predict)\n",
    "\n",
    "#Predict survival for each passenger \n",
    "SVC_predictions = supVectClass.predict(test_features) #after training the model, make predictions on the test.csv file using the features from the test.csv file.\n",
    "\n",
    "#display first 20 predictions from the random forest classifier model\n",
    "print('First 20 Predicted Survival: ')\n",
    "print(SVC_predictions[:20])\n",
    "\n",
    "#Check how well the model performed with classification report and confusion matrix\n",
    "print(classification_report(test_df['Survived'], SVC_predictions)) #test_df represents the expected values I want to compare to our predicted values (rfc_predictions)\n",
    "print(confusion_matrix(test_df['Survived'], SVC_predictions)) #confusion matrix shows how many correct and mislabeled survival rates \n",
    "\n",
    "print(type(SVC_predictions))\n",
    "\n",
    "#count number of 0's and 1's in rfc_predictions array for bargraph\n",
    "zero_count = 0\n",
    "one_count = 0\n",
    "\n",
    "for values in SVC_predictions:\n",
    "    if (values  == 0):\n",
    "        zero_count = zero_count + 1\n",
    "    else:\n",
    "        one_count = one_count + 1\n",
    "\n",
    "print('Zero_count: ')\n",
    "print(zero_count)\n",
    "print('One_count: ')\n",
    "print(one_count)\n",
    "\n",
    "#Test if I can insert new data from code and see if the model will make a prediction:\n",
    "dummy_data = [[934,2,'Christian Tran','male',23,0,0,612311,4.598,float('NaN'),'Q']]\n",
    "\n",
    "dummy_df = pd.DataFrame(dummy_data, columns=['PassengerId','Pclass','Name','Sex','Age','SibSp','Parch','Ticket','Fare','Cabin','Embarked'])\n",
    "\n",
    "dummy_df['Sex_encoded'] = sex_encoder.transform(dummy_df['Sex'])\n",
    "\n",
    "dummy_features = dummy_df[['Age', 'Sex_encoded', 'Pclass']]\n",
    "\n",
    "dummy_pred = supVectClass.predict(dummy_features)\n",
    "print('DUMMY DATA PREDICTION: ')\n",
    "print(dummy_pred) \n",
    "\n",
    "#Create bargraph that shows the predicted 0's and 1's\n",
    "#Get data ready for graph:\n",
    "LR_pred_data = {'0': zero_count, '1': one_count}\n",
    "LR_x_labels = list(LR_pred_data.keys())\n",
    "LR_values = list(LR_pred_data.values())\n",
    "#create a bargraph with matplotlib\n",
    "plt.bar(LR_x_labels, LR_values)\n",
    "plt.xlabel('Survived')\n",
    "plt.ylabel('Counts')\n",
    "plt.title('Predicted Survival for Each Passenger: Support Vector Regression')"
   ]
  },
  {
   "cell_type": "code",
   "execution_count": null,
   "metadata": {},
   "outputs": [],
   "source": []
  }
 ],
 "metadata": {
  "kernelspec": {
   "display_name": "Python 3 (ipykernel)",
   "language": "python",
   "name": "python3"
  },
  "language_info": {
   "codemirror_mode": {
    "name": "ipython",
    "version": 3
   },
   "file_extension": ".py",
   "mimetype": "text/x-python",
   "name": "python",
   "nbconvert_exporter": "python",
   "pygments_lexer": "ipython3",
   "version": "3.12.2"
  }
 },
 "nbformat": 4,
 "nbformat_minor": 4
}
